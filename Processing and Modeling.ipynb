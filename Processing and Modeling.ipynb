{
 "cells": [
  {
   "cell_type": "markdown",
   "metadata": {},
   "source": [
    "## **Personalities (WIP Title)**\n",
    "### A better way to get big five personalities\n",
    "\n",
    "Data source:\n",
    "https://www.kaggle.com/tunguz/big-five-personality-test"
   ]
  },
  {
   "cell_type": "markdown",
   "metadata": {},
   "source": [
    "### **Data Preprocessing**"
   ]
  },
  {
   "cell_type": "code",
   "execution_count": 114,
   "metadata": {},
   "outputs": [],
   "source": [
    "import random\n",
    "import pandas as pd\n",
    "import numpy as np\n",
    "import matplotlib.pyplot as plt\n",
    "%matplotlib inline"
   ]
  },
  {
   "cell_type": "code",
   "execution_count": 2,
   "metadata": {},
   "outputs": [],
   "source": [
    "fp = \"data/data-final.csv\"\n",
    "# load data\n",
    "data = pd.read_csv(fp, sep=\"\\t\", usecols=range(50))\n",
    "# drop na rows\n",
    "data.dropna(inplace=True)\n",
    "# drop rows with more than 2 skipped questions\n",
    "answr_0_cts = (data==0.0).apply(sum, axis=1)\n",
    "data = data[answr_0_cts<=2]"
   ]
  },
  {
   "cell_type": "code",
   "execution_count": 3,
   "metadata": {},
   "outputs": [],
   "source": [
    "data = data.astype(int)"
   ]
  },
  {
   "cell_type": "code",
   "execution_count": 4,
   "metadata": {},
   "outputs": [
    {
     "data": {
      "text/plain": [
       "(1003839, 40)"
      ]
     },
     "execution_count": 4,
     "metadata": {},
     "output_type": "execute_result"
    }
   ],
   "source": [
    "data.shape"
   ]
  },
  {
   "cell_type": "code",
   "execution_count": 11,
   "metadata": {},
   "outputs": [],
   "source": [
    "data[data==0] = np.NaN"
   ]
  },
  {
   "cell_type": "code",
   "execution_count": 13,
   "metadata": {},
   "outputs": [],
   "source": [
    "# Impute the skipped questions\n",
    "from sklearn.impute import KNNImputer\n",
    "imputer = KNNImputer(n_neighbors=5)\n",
    "data_filled = imputer.fit_transform(data)"
   ]
  },
  {
   "cell_type": "code",
   "execution_count": 35,
   "metadata": {},
   "outputs": [],
   "source": [
    "data_filled = pd.DataFrame(data_filled).apply(round)\n",
    "mapping = {1.0: -0.9, 2.0: -0.4, 3.0: -0.1, 4.0: 0.4, 5.0:0.9}\n",
    "data_new = np.zeros(data_filled.shape)\n",
    "for r in range(data_new.shape[0]):\n",
    "    for c in range(data_new.shape[1]):\n",
    "        data_new[r,c] = mapping[data_filled.iloc[r,c]]"
   ]
  },
  {
   "cell_type": "code",
   "execution_count": null,
   "metadata": {
    "collapsed": false,
    "jupyter": {
     "outputs_hidden": false
    },
    "pycharm": {
     "name": "#%%\n"
    }
   },
   "outputs": [],
   "source": [
    "pd.DataFrame(data_new, columns = data.columns).to_csv(\"data/data_preproc_knn.csv\", index=False)"
   ]
  },
  {
   "cell_type": "code",
   "execution_count": 20,
   "metadata": {},
   "outputs": [],
   "source": [
    "def load_data(fp, test_prop):\n",
    "    \"\"\"\n",
    "    loads and transforms data for modeling\n",
    "    takes a fp to a csv file\n",
    "    returns a pandas dataframe\n",
    "    \"\"\"\n",
    "\n",
    "    # load data\n",
    "    data = pd.read_csv(fp)\n",
    "    # # drop na rows\n",
    "    # data.dropna(inplace=True)\n",
    "    # # drop rows with more than 2 skipped questions\n",
    "    # answr_0_cts = (data == 0.0).apply(sum, axis=1)\n",
    "    # data = data[answr_0_cts <= 2]\n",
    "\n",
    "    # split train and test\n",
    "    # how many rows to sample\n",
    "    n_samps = int(data.shape[0] * (1 - test_prop))\n",
    "    # sample from row indices\n",
    "    train_idx = random.sample(range(data.shape[0]), n_samps)\n",
    "    test_idx = list(set(range(data.shape[0])) - set(train_idx))\n",
    "\n",
    "    return data.loc[train_idx,:], data.loc[test_idx,:]"
   ]
  },
  {
   "cell_type": "code",
   "execution_count": 21,
   "metadata": {},
   "outputs": [],
   "source": [
    "def load_data(fp, test_prop):\n",
    "    \"\"\"\n",
    "    loads and transforms data for modeling\n",
    "    takes a fp to a csv file\n",
    "    returns a pandas dataframe\n",
    "    \"\"\"\n",
    "\n",
    "    # load data\n",
    "    data = pd.read_csv(fp)\n",
    "    # # drop na rows\n",
    "    # data.dropna(inplace=True)\n",
    "    # # drop rows with more than 2 skipped questions\n",
    "    # answr_0_cts = (data == 0.0).apply(sum, axis=1)\n",
    "    # data = data[answr_0_cts <= 2]\n",
    "\n",
    "    # split train and test\n",
    "    # how many rows to sample\n",
    "    n_samps = int(data.shape[0] * (1 - test_prop))\n",
    "    # sample from row indices\n",
    "    train_idx = random.sample(range(data.shape[0]), n_samps)\n",
    "    test_idx = list(set(range(data.shape[0])) - set(train_idx))\n",
    "\n",
    "    return data.loc[train_idx,:], data.loc[test_idx,:]"
   ]
  },
  {
   "cell_type": "markdown",
   "metadata": {},
   "source": [
    "## **Modeling**"
   ]
  },
  {
   "cell_type": "markdown",
   "metadata": {},
   "source": [
    "The basic assumption is that the data is generated from a process that ultimately leads to a number of independent latent variables, which we might call personality types. The number of these variables is determined arbitrarily and can be a hyperparameter to tune. We also assume that these latent variables follow a beta distribution with parameters alpha and beta, which are determined through a deep neural network. Overall, we will use variational autoencoder structure to learn the weights to the neural network, which are optimized to reproduce the answers observed in the data.\n",
    "\n",
    "The use of beta distribution is due to it being able to output a bounded number between 0 and 1, which is useful and interpretable as a measurement of personality traits. Using this distribution we can also output a confidence interval for each personality measurements."
   ]
  },
  {
   "cell_type": "markdown",
   "metadata": {},
   "source": [
    "The actual model training is done in a separate script. Here we will try to figure out a way to interpret the latent vector by disabling one dimension at a time and see if it works."
   ]
  },
  {
   "cell_type": "code",
   "execution_count": 1,
   "metadata": {},
   "outputs": [
    {
     "name": "stderr",
     "output_type": "stream",
     "text": [
      "/home/roblee/.local/lib/python3.7/site-packages/tensorflow/python/framework/dtypes.py:516: FutureWarning: Passing (type, 1) or '1type' as a synonym of type is deprecated; in a future version of numpy, it will be understood as (type, (1,)) / '(1,)type'.\n",
      "  _np_qint8 = np.dtype([(\"qint8\", np.int8, 1)])\n",
      "/home/roblee/.local/lib/python3.7/site-packages/tensorflow/python/framework/dtypes.py:517: FutureWarning: Passing (type, 1) or '1type' as a synonym of type is deprecated; in a future version of numpy, it will be understood as (type, (1,)) / '(1,)type'.\n",
      "  _np_quint8 = np.dtype([(\"quint8\", np.uint8, 1)])\n",
      "/home/roblee/.local/lib/python3.7/site-packages/tensorflow/python/framework/dtypes.py:518: FutureWarning: Passing (type, 1) or '1type' as a synonym of type is deprecated; in a future version of numpy, it will be understood as (type, (1,)) / '(1,)type'.\n",
      "  _np_qint16 = np.dtype([(\"qint16\", np.int16, 1)])\n",
      "/home/roblee/.local/lib/python3.7/site-packages/tensorflow/python/framework/dtypes.py:519: FutureWarning: Passing (type, 1) or '1type' as a synonym of type is deprecated; in a future version of numpy, it will be understood as (type, (1,)) / '(1,)type'.\n",
      "  _np_quint16 = np.dtype([(\"quint16\", np.uint16, 1)])\n",
      "/home/roblee/.local/lib/python3.7/site-packages/tensorflow/python/framework/dtypes.py:520: FutureWarning: Passing (type, 1) or '1type' as a synonym of type is deprecated; in a future version of numpy, it will be understood as (type, (1,)) / '(1,)type'.\n",
      "  _np_qint32 = np.dtype([(\"qint32\", np.int32, 1)])\n",
      "/home/roblee/.local/lib/python3.7/site-packages/tensorflow/python/framework/dtypes.py:525: FutureWarning: Passing (type, 1) or '1type' as a synonym of type is deprecated; in a future version of numpy, it will be understood as (type, (1,)) / '(1,)type'.\n",
      "  np_resource = np.dtype([(\"resource\", np.ubyte, 1)])\n",
      "/home/roblee/.local/lib/python3.7/site-packages/tensorboard/compat/tensorflow_stub/dtypes.py:541: FutureWarning: Passing (type, 1) or '1type' as a synonym of type is deprecated; in a future version of numpy, it will be understood as (type, (1,)) / '(1,)type'.\n",
      "  _np_qint8 = np.dtype([(\"qint8\", np.int8, 1)])\n",
      "/home/roblee/.local/lib/python3.7/site-packages/tensorboard/compat/tensorflow_stub/dtypes.py:542: FutureWarning: Passing (type, 1) or '1type' as a synonym of type is deprecated; in a future version of numpy, it will be understood as (type, (1,)) / '(1,)type'.\n",
      "  _np_quint8 = np.dtype([(\"quint8\", np.uint8, 1)])\n",
      "/home/roblee/.local/lib/python3.7/site-packages/tensorboard/compat/tensorflow_stub/dtypes.py:543: FutureWarning: Passing (type, 1) or '1type' as a synonym of type is deprecated; in a future version of numpy, it will be understood as (type, (1,)) / '(1,)type'.\n",
      "  _np_qint16 = np.dtype([(\"qint16\", np.int16, 1)])\n",
      "/home/roblee/.local/lib/python3.7/site-packages/tensorboard/compat/tensorflow_stub/dtypes.py:544: FutureWarning: Passing (type, 1) or '1type' as a synonym of type is deprecated; in a future version of numpy, it will be understood as (type, (1,)) / '(1,)type'.\n",
      "  _np_quint16 = np.dtype([(\"quint16\", np.uint16, 1)])\n",
      "/home/roblee/.local/lib/python3.7/site-packages/tensorboard/compat/tensorflow_stub/dtypes.py:545: FutureWarning: Passing (type, 1) or '1type' as a synonym of type is deprecated; in a future version of numpy, it will be understood as (type, (1,)) / '(1,)type'.\n",
      "  _np_qint32 = np.dtype([(\"qint32\", np.int32, 1)])\n",
      "/home/roblee/.local/lib/python3.7/site-packages/tensorboard/compat/tensorflow_stub/dtypes.py:550: FutureWarning: Passing (type, 1) or '1type' as a synonym of type is deprecated; in a future version of numpy, it will be understood as (type, (1,)) / '(1,)type'.\n",
      "  np_resource = np.dtype([(\"resource\", np.ubyte, 1)])\n"
     ]
    }
   ],
   "source": [
    "import pandas as pd\n",
    "import numpy as np\n",
    "from tensorflow.keras import backend as K\n",
    "from tensorflow.keras import regularizers\n",
    "from tensorflow.keras.layers import Input, Dense, Layer, Concatenate, Lambda, Flatten, BatchNormalization, Dropout\n",
    "from tensorflow.keras.models import Model\n",
    "from tensorflow.keras.optimizers import Adam\n",
    "from tensorflow.keras.callbacks import EarlyStopping"
   ]
  },
  {
   "cell_type": "code",
   "execution_count": 46,
   "metadata": {},
   "outputs": [],
   "source": [
    "# load the model and see if we can extract the weights\n",
    "\n",
    "def reconstruct_ae(input_dim, layer_dim, encoder_dim, dropout_rate, wgt_fp, load_wgts = True):\n",
    "\n",
    "    # Encoder\n",
    "    input_encoder = Input(shape=(input_dim, ))\n",
    "    encoder1 = Dense(layer_dim, activation=\"tanh\")(input_encoder)\n",
    "    e_bnorm1 = BatchNormalization(axis=1)(encoder1)\n",
    "    e_dropout1 = Dropout(dropout_rate)(e_bnorm1)\n",
    "    encoder2 = Dense(layer_dim, activation=\"tanh\")(e_dropout1)\n",
    "    e_bnorm2 = BatchNormalization(axis=1)(encoder2)\n",
    "    e_dropout2 = Dropout(dropout_rate)(e_bnorm2)\n",
    "\n",
    "    # output of encoder\n",
    "    input_o_encoder = Input(shape=(layer_dim, ))\n",
    "    output_encoder = Dense(encoder_dim, activation=\"sigmoid\")(input_o_encoder)\n",
    "\n",
    "    # Decoder\n",
    "    input_decoder = Input(shape=(encoder_dim, ))\n",
    "    decoder1 = Dense(layer_dim, activation='tanh')(input_decoder)\n",
    "    d_bnorm1 = BatchNormalization(axis=1)(decoder1)\n",
    "    d_dropout1 = Dropout(dropout_rate)(d_bnorm1)\n",
    "    decoder2 = Dense(layer_dim, activation='tanh')(d_dropout1)\n",
    "    d_bnorm2 = BatchNormalization(axis=1)(decoder2)\n",
    "    d_dropout2 = Dropout(dropout_rate)(d_bnorm2)\n",
    "    output_decoder = Dense(input_dim, activation='tanh')(d_dropout2)\n",
    "\n",
    "    encoder_latent = Model(inputs=input_encoder, outputs=e_dropout2, name='encoder')\n",
    "    encoder_out = Model(inputs=input_o_encoder, outputs=output_encoder)\n",
    "    encoder = Model(inputs=input_encoder, outputs=encoder_out(encoder_latent(input_encoder)))\n",
    "    decoder = Model(inputs=input_decoder, outputs=output_decoder, name='decoder')\n",
    "    autoencoder = Model(inputs=input_encoder, outputs=decoder(encoder(input_encoder)), name='ae')\n",
    "    \n",
    "    if load_wgts:\n",
    "        autoencoder.load_weights(wgt_fp)\n",
    "\n",
    "    return autoencoder"
   ]
  },
  {
   "cell_type": "code",
   "execution_count": 47,
   "metadata": {},
   "outputs": [],
   "source": [
    "input_dim = 40\n",
    "layer_dim = 512\n",
    "encoder_dim = 5\n",
    "dropout_rate = 0.1\n",
    "learning_rate = 0.01\n",
    "wgt_fp = \"models/ae_model.h5\"\n",
    "\n",
    "ae_model = reconstruct_ae(input_dim, layer_dim, encoder_dim, dropout_rate, wgt_fp)"
   ]
  },
  {
   "cell_type": "code",
   "execution_count": 91,
   "metadata": {},
   "outputs": [
    {
     "data": {
      "text/plain": [
       "[<tensorflow.python.keras.engine.input_layer.InputLayer at 0x7f0959dc8d90>,\n",
       " <tensorflow.python.keras.layers.core.Dense at 0x7f0959df0b10>,\n",
       " <tensorflow.python.keras.layers.normalization.BatchNormalization at 0x7f0959d975d0>,\n",
       " <tensorflow.python.keras.layers.core.Dropout at 0x7f0959d40c90>,\n",
       " <tensorflow.python.keras.layers.core.Dense at 0x7f0959d40e50>,\n",
       " <tensorflow.python.keras.layers.normalization.BatchNormalization at 0x7f0959c8f990>,\n",
       " <tensorflow.python.keras.layers.core.Dropout at 0x7f0959c79c10>,\n",
       " <tensorflow.python.keras.layers.core.Dense at 0x7f0959c79e10>]"
      ]
     },
     "execution_count": 91,
     "metadata": {},
     "output_type": "execute_result"
    }
   ],
   "source": [
    "ae_model.layers[2].layers"
   ]
  },
  {
   "cell_type": "code",
   "execution_count": 40,
   "metadata": {},
   "outputs": [
    {
     "name": "stdout",
     "output_type": "stream",
     "text": [
      "(512, 5)\n",
      "(5,)\n"
     ]
    }
   ],
   "source": [
    "# These are the layers to change\n",
    "for array in ae_model.layers[1].layers[-1].get_weights():\n",
    "    print(array.shape)"
   ]
  },
  {
   "cell_type": "code",
   "execution_count": 41,
   "metadata": {},
   "outputs": [
    {
     "name": "stdout",
     "output_type": "stream",
     "text": [
      "(5, 512)\n",
      "(512,)\n"
     ]
    }
   ],
   "source": [
    "for array in ae_model.layers[2].layers[1].get_weights():\n",
    "    print(array.shape)"
   ]
  },
  {
   "cell_type": "code",
   "execution_count": 95,
   "metadata": {},
   "outputs": [],
   "source": [
    "i = 0\n",
    "latent_dim = 5\n",
    "n_questions = 40\n",
    "\n",
    "# get rid of ith column\n",
    "selected_cols = list(set(range(latent_dim)) - set([i]))\n",
    "# reconstruct model with one less num of dim in encoder output\n",
    "ae_model_recon = reconstruct_ae(n_questions, layer_dim, latent_dim-1, dropout_rate, wgt_fp, False)\n",
    "# set the weights manually\n",
    "ae_model_recon.layers[1].layers[1].set_weights(ae_model.layers[1].layers[1].get_weights())\n",
    "# modify weight dim for the last layer of encoder\n",
    "wghts_mod_1 = []\n",
    "wghts_mod_1.append(ae_model.layers[1].layers[2].get_weights()[0][:,selected_cols])\n",
    "wghts_mod_1.append(ae_model.layers[1].layers[2].get_weights()[1][selected_cols])\n",
    "ae_model_recon.layers[1].layers[2].set_weights(wghts_mod_1)\n",
    "# modify weights again for the first layer of decoder\n",
    "wghts_mod_2 = []\n",
    "wghts_mod_2.append(ae_model.layers[2].layers[1].get_weights()[0][selected_cols,:])\n",
    "wghts_mod_2.append(ae_model.layers[2].layers[1].get_weights()[1])\n",
    "ae_model_recon.layers[2].layers[1].set_weights(wghts_mod_2)\n",
    "# set weights manually for layers 2-7 in decoder\n",
    "for lyr in range(2,8):\n",
    "    ae_model_recon.layers[2].layers[lyr].set_weights(ae_model.layers[2].layers[lyr].get_weights())"
   ]
  },
  {
   "cell_type": "code",
   "execution_count": 105,
   "metadata": {},
   "outputs": [],
   "source": [
    "pred = ae_model.predict(data.values)"
   ]
  },
  {
   "cell_type": "code",
   "execution_count": 106,
   "metadata": {},
   "outputs": [],
   "source": [
    "pred_recon = ae_model_recon.predict(data.values)"
   ]
  },
  {
   "cell_type": "code",
   "execution_count": 107,
   "metadata": {},
   "outputs": [
    {
     "data": {
      "text/plain": [
       "array([ 66110.73  ,  22127.541 ,  13234.835 ,   8113.573 ,  10177.406 ,\n",
       "        13310.528 ,  40889.59  ,  11140.362 ,  11582.636 ,  13250.015 ,\n",
       "       677208.7   , 373501.78  , 554460.2   , 195799.77  , 284536.3   ,\n",
       "       503027.1   , 444613.25  , 426591.4   , 530367.2   , 316285.5   ,\n",
       "        50517.574 ,  16572.053 ,  48609.668 ,  42257.812 ,   6916.1416,\n",
       "       123121.28  ,   6464.966 ,   5362.3423,  87446.18  ,   4849.947 ,\n",
       "         8313.95  ,  11114.813 ,   8286.5625,  58937.367 ,  11884.769 ,\n",
       "        16600.682 ,  51544.297 ,  14317.079 , 102005.664 ,  12577.176 ],\n",
       "      dtype=float32)"
      ]
     },
     "execution_count": 107,
     "metadata": {},
     "output_type": "execute_result"
    }
   ],
   "source": [
    "# calculate total per question loss\n",
    "np.square(pred - pred_recon).sum(axis=0)"
   ]
  },
  {
   "cell_type": "code",
   "execution_count": 110,
   "metadata": {},
   "outputs": [],
   "source": [
    "def interpret_latent_layer(data, ae_model):\n",
    "    \"\"\"\n",
    "    returns reconstruction loss for each question if one of latent dim is taken out\n",
    "    \"\"\"\n",
    "    latent_dim = 5\n",
    "    n_questions = 40 \n",
    "    output = np.zeros((latent_dim, n_questions))\n",
    "    \n",
    "    pred = ae_model.predict(data.values)\n",
    "    \n",
    "    for i in range(latent_dim):\n",
    "        # get rid of ith column\n",
    "        selected_cols = list(set(range(latent_dim)) - set([i]))\n",
    "        # reconstruct model with one less num of dim in encoder output\n",
    "        ae_model_recon = reconstruct_ae(n_questions, layer_dim, latent_dim-1, dropout_rate, wgt_fp, False)\n",
    "        # set the weights manually\n",
    "        ae_model_recon.layers[1].layers[1].set_weights(ae_model.layers[1].layers[1].get_weights())\n",
    "        # modify weight dim for the last layer of encoder\n",
    "        wghts_mod_1 = []\n",
    "        wghts_mod_1.append(ae_model.layers[1].layers[2].get_weights()[0][:,selected_cols])\n",
    "        wghts_mod_1.append(ae_model.layers[1].layers[2].get_weights()[1][selected_cols])\n",
    "        ae_model_recon.layers[1].layers[2].set_weights(wghts_mod_1)\n",
    "        # modify weights again for the first layer of decoder\n",
    "        wghts_mod_2 = []\n",
    "        wghts_mod_2.append(ae_model.layers[2].layers[1].get_weights()[0][selected_cols,:])\n",
    "        wghts_mod_2.append(ae_model.layers[2].layers[1].get_weights()[1])\n",
    "        ae_model_recon.layers[2].layers[1].set_weights(wghts_mod_2)\n",
    "        # set weights manually for layers 2-7 in decoder\n",
    "        for lyr in range(2,8):\n",
    "            ae_model_recon.layers[2].layers[lyr].set_weights(ae_model.layers[2].layers[lyr].get_weights())\n",
    "        \n",
    "        # calculate total squared error loss for each question\n",
    "        pred_recon = ae_model_recon.predict(data.values)\n",
    "        output[i] = np.square(pred - pred_recon).sum(axis=0)\n",
    "    \n",
    "    return output"
   ]
  },
  {
   "cell_type": "code",
   "execution_count": 111,
   "metadata": {},
   "outputs": [],
   "source": [
    "answer_loss = interpret_latent_layer(data, ae_model)"
   ]
  },
  {
   "cell_type": "code",
   "execution_count": 128,
   "metadata": {},
   "outputs": [
    {
     "data": {
      "image/png": "[encoded data removed]",
      "text/plain": [
       "<Figure size 432x288 with 1 Axes>"
      ]
     },
     "metadata": {
      "needs_background": "light"
     },
     "output_type": "display_data"
    }
   ],
   "source": [
    "# let's plot this as line graph\n",
    "for i in range(5):\n",
    "    plt.plot(answer_loss[i], label=\"Perso %i\" % (i+1))\n",
    "plt.legend()\n",
    "plt.title(\"Personality Types and Their Corresponding Questions\")\n",
    "plt.savefig(\"perso_types.png\")"
   ]
  },
  {
   "cell_type": "code",
   "execution_count": 22,
   "metadata": {},
   "outputs": [],
   "source": [
    "for array in decoder_model.layers[0].get_weights():\n",
    "    print(array.shape)"
   ]
  },
  {
   "cell_type": "code",
   "execution_count": 12,
   "metadata": {},
   "outputs": [],
   "source": [
    "# reconstruct model\n",
    "\n",
    "input_o_encoder = Input(shape=(layer_dim, ))\n",
    "output_encoder = Dense(encoder_dim, activation=\"sigmoid\")(input_o_encoder)\n",
    "encoder_out = Model(inputs=input_o_encoder, outputs=output_encoder)\n",
    "\n",
    "# Get weights from trained model\n",
    "encoder_out.load_weights(\"models/encoder_out_model.h5\")\n",
    "weights = encoder_out.layers[1].get_weights()"
   ]
  },
  {
   "cell_type": "code",
   "execution_count": 13,
   "metadata": {},
   "outputs": [
    {
     "data": {
      "text/plain": [
       "[array([[-0.03761424, -0.00707147,  0.00090427, -0.01330018, -0.00627301],\n",
       "        [ 0.218801  , -0.07438095,  0.33807376, -0.00495258,  0.3611041 ],\n",
       "        [ 0.00487093,  0.00308015,  0.00207358,  0.00261693,  0.00903295],\n",
       "        ...,\n",
       "        [ 0.13145614,  0.21304595, -0.4560745 , -0.31178954,  0.00292756],\n",
       "        [-0.20002744, -0.03073133, -0.34470347,  0.15862438, -0.0436524 ],\n",
       "        [-0.07714497, -0.05257611,  0.10625625, -0.09523363,  0.00128756]],\n",
       "       dtype=float32),\n",
       " array([-0.9283109 , -1.280707  , -1.5039036 , -1.7589775 , -0.84670234],\n",
       "       dtype=float32)]"
      ]
     },
     "execution_count": 13,
     "metadata": {},
     "output_type": "execute_result"
    }
   ],
   "source": [
    "weights"
   ]
  },
  {
   "cell_type": "code",
   "execution_count": 14,
   "metadata": {},
   "outputs": [],
   "source": [
    "# load data\n",
    "data = pd.read_csv(\"data/data_preproc_knn.csv\")"
   ]
  }
 ],
 "metadata": {
  "kernelspec": {
   "display_name": "Python 3",
   "language": "python",
   "name": "python3"
  },
  "language_info": {
   "codemirror_mode": {
    "name": "ipython",
    "version": 3
   },
   "file_extension": ".py",
   "mimetype": "text/x-python",
   "name": "python",
   "nbconvert_exporter": "python",
   "pygments_lexer": "ipython3",
   "version": "3.7.5"
  }
 },
 "nbformat": 4,
 "nbformat_minor": 4
}
