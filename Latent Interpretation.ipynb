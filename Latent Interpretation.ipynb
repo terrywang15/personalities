{
 "cells": [
  {
   "cell_type": "markdown",
   "metadata": {},
   "source": [
    "## **Personalities (WIP Title)**\n",
    "### A better way to get big five personalities\n",
    "\n",
    "Data source:\n",
    "https://www.kaggle.com/tunguz/big-five-personality-test"
   ]
  },
  {
   "cell_type": "markdown",
   "metadata": {},
   "source": [
    "After reconstructing the autoencoder with 5 latent nodes, the challenge is to interpret the meaning of each node. For our purpose, we can reformulate the question to be the following: if we completely disconnect one of the 5 latent nodes in the last layer of the encoder and holding all other weights constant, the predicted values of which questions would be impacted the most?\n",
    "\n",
    "To answer this, we need to do the following:\n",
    "\n",
    "1. Have a baseline prediction using the trained model with all 5 latent nodes.\n",
    "2. Remove one of the latent nodes, reconstruct the model and fill in the weights.\n",
    "3. Make predictions with the reconstructed model with the missing latent node using the data.\n",
    "4. Get the element-wise difference between the baseline prediction and new predictions.\n",
    "5. Sum the predictions by question to get total difference per question. Record the numbers.\n",
    "6. Repeat 2 until each of all the latent nodes have been removed once.\n",
    "7. Find out which nodes have the biggest impact on which questions.\n",
    "8. Given the content of the questions, we can interpret the effect of each of the nodes.\n",
    "\n",
    "For example, if removing node 1 impacts mostly the questions related to aggression, then we can interpret that node 1 is mostly a measure of aggression.\n",
    "\n",
    "This idea is similar to using PCA and clustering to get at latent dimensions, but with the advantage of having a more realistic model that allows for graph-like structure, which can more effectively mimic the real-world mechanisms of how the idea of personality traits lead to different answers. This structure is similar to what you would have gotten with bayesian-network but with a different way to get at the weights."
   ]
  },
  {
   "cell_type": "code",
   "execution_count": 1,
   "metadata": {},
   "outputs": [
    {
     "name": "stderr",
     "output_type": "stream",
     "text": [
      "/home/roblee/.local/lib/python3.7/site-packages/tensorflow/python/framework/dtypes.py:516: FutureWarning: Passing (type, 1) or '1type' as a synonym of type is deprecated; in a future version of numpy, it will be understood as (type, (1,)) / '(1,)type'.\n",
      "  _np_qint8 = np.dtype([(\"qint8\", np.int8, 1)])\n",
      "/home/roblee/.local/lib/python3.7/site-packages/tensorflow/python/framework/dtypes.py:517: FutureWarning: Passing (type, 1) or '1type' as a synonym of type is deprecated; in a future version of numpy, it will be understood as (type, (1,)) / '(1,)type'.\n",
      "  _np_quint8 = np.dtype([(\"quint8\", np.uint8, 1)])\n",
      "/home/roblee/.local/lib/python3.7/site-packages/tensorflow/python/framework/dtypes.py:518: FutureWarning: Passing (type, 1) or '1type' as a synonym of type is deprecated; in a future version of numpy, it will be understood as (type, (1,)) / '(1,)type'.\n",
      "  _np_qint16 = np.dtype([(\"qint16\", np.int16, 1)])\n",
      "/home/roblee/.local/lib/python3.7/site-packages/tensorflow/python/framework/dtypes.py:519: FutureWarning: Passing (type, 1) or '1type' as a synonym of type is deprecated; in a future version of numpy, it will be understood as (type, (1,)) / '(1,)type'.\n",
      "  _np_quint16 = np.dtype([(\"quint16\", np.uint16, 1)])\n",
      "/home/roblee/.local/lib/python3.7/site-packages/tensorflow/python/framework/dtypes.py:520: FutureWarning: Passing (type, 1) or '1type' as a synonym of type is deprecated; in a future version of numpy, it will be understood as (type, (1,)) / '(1,)type'.\n",
      "  _np_qint32 = np.dtype([(\"qint32\", np.int32, 1)])\n",
      "/home/roblee/.local/lib/python3.7/site-packages/tensorflow/python/framework/dtypes.py:525: FutureWarning: Passing (type, 1) or '1type' as a synonym of type is deprecated; in a future version of numpy, it will be understood as (type, (1,)) / '(1,)type'.\n",
      "  np_resource = np.dtype([(\"resource\", np.ubyte, 1)])\n",
      "/home/roblee/.local/lib/python3.7/site-packages/tensorboard/compat/tensorflow_stub/dtypes.py:541: FutureWarning: Passing (type, 1) or '1type' as a synonym of type is deprecated; in a future version of numpy, it will be understood as (type, (1,)) / '(1,)type'.\n",
      "  _np_qint8 = np.dtype([(\"qint8\", np.int8, 1)])\n",
      "/home/roblee/.local/lib/python3.7/site-packages/tensorboard/compat/tensorflow_stub/dtypes.py:542: FutureWarning: Passing (type, 1) or '1type' as a synonym of type is deprecated; in a future version of numpy, it will be understood as (type, (1,)) / '(1,)type'.\n",
      "  _np_quint8 = np.dtype([(\"quint8\", np.uint8, 1)])\n",
      "/home/roblee/.local/lib/python3.7/site-packages/tensorboard/compat/tensorflow_stub/dtypes.py:543: FutureWarning: Passing (type, 1) or '1type' as a synonym of type is deprecated; in a future version of numpy, it will be understood as (type, (1,)) / '(1,)type'.\n",
      "  _np_qint16 = np.dtype([(\"qint16\", np.int16, 1)])\n",
      "/home/roblee/.local/lib/python3.7/site-packages/tensorboard/compat/tensorflow_stub/dtypes.py:544: FutureWarning: Passing (type, 1) or '1type' as a synonym of type is deprecated; in a future version of numpy, it will be understood as (type, (1,)) / '(1,)type'.\n",
      "  _np_quint16 = np.dtype([(\"quint16\", np.uint16, 1)])\n",
      "/home/roblee/.local/lib/python3.7/site-packages/tensorboard/compat/tensorflow_stub/dtypes.py:545: FutureWarning: Passing (type, 1) or '1type' as a synonym of type is deprecated; in a future version of numpy, it will be understood as (type, (1,)) / '(1,)type'.\n",
      "  _np_qint32 = np.dtype([(\"qint32\", np.int32, 1)])\n",
      "/home/roblee/.local/lib/python3.7/site-packages/tensorboard/compat/tensorflow_stub/dtypes.py:550: FutureWarning: Passing (type, 1) or '1type' as a synonym of type is deprecated; in a future version of numpy, it will be understood as (type, (1,)) / '(1,)type'.\n",
      "  np_resource = np.dtype([(\"resource\", np.ubyte, 1)])\n"
     ]
    }
   ],
   "source": [
    "import random\n",
    "import pandas as pd\n",
    "import numpy as np\n",
    "import matplotlib.pyplot as plt\n",
    "from tensorflow.keras import backend as K\n",
    "from tensorflow.keras import regularizers\n",
    "from tensorflow.keras.layers import Input, Dense, Layer, Concatenate, Lambda, Flatten, BatchNormalization, Dropout\n",
    "from tensorflow.keras.models import Model\n",
    "from tensorflow.keras.optimizers import Adam\n",
    "from tensorflow.keras.callbacks import EarlyStopping\n",
    "\n",
    "%matplotlib inline"
   ]
  },
  {
   "cell_type": "code",
   "execution_count": 93,
   "metadata": {},
   "outputs": [],
   "source": [
    "# The following have to match training script exactly\n",
    "input_dim = 50\n",
    "layer_dim = 128\n",
    "encoder_dim = 4\n",
    "dropout_rate = 0.1\n",
    "learning_rate = 0.001\n",
    "activ_func = 'tanh'\n",
    "activ_func_latent = 'sigmoid'\n",
    "wgt_fp = \"2020-05-16 19-10\""
   ]
  },
  {
   "cell_type": "code",
   "execution_count": 82,
   "metadata": {},
   "outputs": [],
   "source": [
    "# load the model and see if we can extract the weights\n",
    "\n",
    "def reconstruct_ae(input_dim, layer_dim, encoder_dim, dropout_rate, activation_func, wgt_fp, load_wgts = True):\n",
    "    \n",
    "    global activ_func_latent\n",
    "\n",
    "    # Encoder\n",
    "    input_encoder = Input(shape=(input_dim, ))\n",
    "    encoder1 = Dense(layer_dim, activation=activation_func)(input_encoder)\n",
    "    e_bnorm1 = BatchNormalization(axis=1)(encoder1)\n",
    "    e_dropout1 = Dropout(dropout_rate)(e_bnorm1)\n",
    "    encoder2 = Dense(layer_dim, activation=activation_func)(e_dropout1)\n",
    "    e_bnorm2 = BatchNormalization(axis=1)(encoder2)\n",
    "    e_dropout2 = Dropout(dropout_rate)(e_bnorm2)\n",
    "    encoder3 = Dense(layer_dim, activation=activation_func)(e_dropout2)\n",
    "    e_bnorm3 = BatchNormalization(axis=1)(encoder3)\n",
    "    e_dropout3 = Dropout(dropout_rate)(e_bnorm3)\n",
    "    output_encoder = Dense(encoder_dim, activation=activ_func_latent)(e_dropout3)\n",
    "\n",
    "    # Decoder\n",
    "    input_decoder = Input(shape=(encoder_dim, ))\n",
    "    decoder1 = Dense(layer_dim, activation=activation_func)(input_decoder)\n",
    "    d_bnorm1 = BatchNormalization(axis=1)(decoder1)\n",
    "    d_dropout1 = Dropout(dropout_rate)(d_bnorm1)\n",
    "    decoder2 = Dense(layer_dim, activation=activation_func)(d_dropout1)\n",
    "    d_bnorm2 = BatchNormalization(axis=1)(decoder2)\n",
    "    d_dropout2 = Dropout(dropout_rate)(d_bnorm2)\n",
    "    decoder3 = Dense(layer_dim, activation=activation_func)(d_dropout2)\n",
    "    d_bnorm3 = BatchNormalization(axis=1)(decoder3)\n",
    "    d_dropout3 = Dropout(dropout_rate)(d_bnorm3)\n",
    "    output_decoder = Dense(input_dim, activation=activation_func)(d_dropout3)\n",
    "\n",
    "    encoder = Model(inputs=input_encoder, outputs=output_encoder, name='encoder')\n",
    "    decoder = Model(inputs=input_decoder, outputs=output_decoder)\n",
    "    autoencoder = Model(inputs=input_encoder, outputs=decoder(encoder(input_encoder)), name='ae')\n",
    "\n",
    "    if load_wgts:\n",
    "        encoder.load_weights(\"models/\" + wgt_fp + \"/encoder_model.h5\")\n",
    "        autoencoder.load_weights(\"models/\" + wgt_fp + \"/ae_model.h5\")\n",
    "\n",
    "    return encoder, autoencoder"
   ]
  },
  {
   "cell_type": "code",
   "execution_count": 94,
   "metadata": {},
   "outputs": [],
   "source": [
    "encoder_model, ae_model = reconstruct_ae(input_dim, layer_dim, encoder_dim, dropout_rate, activ_func, wgt_fp)"
   ]
  },
  {
   "cell_type": "code",
   "execution_count": 28,
   "metadata": {},
   "outputs": [],
   "source": [
    "data = pd.read_csv(\"data/data_complete_only.csv\")"
   ]
  },
  {
   "cell_type": "code",
   "execution_count": 42,
   "metadata": {},
   "outputs": [],
   "source": [
    "# load in questions\n",
    "\n",
    "with open(\"data/question_list.txt\") as f:\n",
    "    questions = f.readlines()\n",
    "questions = [x.strip() for x in questions]"
   ]
  },
  {
   "cell_type": "code",
   "execution_count": 34,
   "metadata": {},
   "outputs": [],
   "source": [
    "def interpret_latent_layer(data, input_dim, latent_dim, activation_func, dropout_rate, ae_model):\n",
    "    \"\"\"\n",
    "    returns reconstruction loss for each question if one of latent dim is taken out\n",
    "    \"\"\"\n",
    "    n_questions = input_dim \n",
    "    output = np.zeros((latent_dim, n_questions))\n",
    "    \n",
    "    pred = ae_model.predict(data.values)\n",
    "    \n",
    "    enc_len = len(ae_model.layers[1].layers)\n",
    "    dec_len = len(ae_model.layers[2].layers)\n",
    "    \n",
    "    for i in range(latent_dim):\n",
    "        # get rid of ith column\n",
    "        selected_cols = list(set(range(latent_dim)) - set([i]))\n",
    "        # reconstruct model with one less num of dim in encoder output\n",
    "        _, ae_model_recon = reconstruct_ae(n_questions, layer_dim, latent_dim-1, dropout_rate, activation_func, [], False)\n",
    "        # set the weights manually for encoder layers 1-9\n",
    "        for lyr in range(1,enc_len-1):\n",
    "            ae_model_recon.layers[1].layers[i].set_weights(ae_model.layers[1].layers[i].get_weights())\n",
    "        # modify weight dim for the last layer of encoder\n",
    "        wghts_mod_1 = []\n",
    "        wghts_mod_1.append(ae_model.layers[1].layers[-1].get_weights()[0][:,selected_cols])\n",
    "        wghts_mod_1.append(ae_model.layers[1].layers[-1].get_weights()[1][selected_cols])\n",
    "        ae_model_recon.layers[1].layers[-1].set_weights(wghts_mod_1)\n",
    "        # modify weights again for the first layer of decoder\n",
    "        wghts_mod_2 = []\n",
    "        wghts_mod_2.append(ae_model.layers[2].layers[1].get_weights()[0][selected_cols,:])\n",
    "        wghts_mod_2.append(ae_model.layers[2].layers[1].get_weights()[1])\n",
    "        ae_model_recon.layers[2].layers[1].set_weights(wghts_mod_2)\n",
    "        # set weights manually for layers 2-11 in decoder\n",
    "        for lyr in range(2,dec_len):\n",
    "            ae_model_recon.layers[2].layers[lyr].set_weights(ae_model.layers[2].layers[lyr].get_weights())\n",
    "        \n",
    "        # calculate total squared error loss for each question\n",
    "        pred_recon = ae_model_recon.predict(data.values)\n",
    "        output[i] = np.square(pred - pred_recon).sum(axis=0)\n",
    "    \n",
    "    return output"
   ]
  },
  {
   "cell_type": "code",
   "execution_count": 95,
   "metadata": {},
   "outputs": [],
   "source": [
    "answer_loss = interpret_latent_layer(data, input_dim, encoder_dim, activ_func, dropout_rate, ae_model)"
   ]
  },
  {
   "cell_type": "code",
   "execution_count": 96,
   "metadata": {},
   "outputs": [
    {
     "data": {
      "image/png": "[encoded data removed]",
      "text/plain": [
       "<Figure size 432x288 with 1 Axes>"
      ]
     },
     "metadata": {
      "needs_background": "light"
     },
     "output_type": "display_data"
    }
   ],
   "source": [
    "# let's plot this as line graph\n",
    "for i in range(encoder_dim):\n",
    "    plt.plot(answer_loss[i], label=\"Perso %i\" % (i+1))\n",
    "plt.legend()\n",
    "plt.title(\"Personality Types and Their Corresponding Questions\")\n",
    "model_fp = \"models/\" + wgt_fp\n",
    "plt.savefig(model_fp + \"/perso_types.png\")"
   ]
  },
  {
   "cell_type": "code",
   "execution_count": 97,
   "metadata": {},
   "outputs": [],
   "source": [
    "question_dict = dict(zip(range(len(questions)), questions))"
   ]
  },
  {
   "cell_type": "code",
   "execution_count": 98,
   "metadata": {},
   "outputs": [],
   "source": [
    "# Get top questions for each perso type\n",
    "\n",
    "answer_loss_df = pd.DataFrame(answer_loss.T)"
   ]
  },
  {
   "cell_type": "code",
   "execution_count": 99,
   "metadata": {},
   "outputs": [],
   "source": [
    "# For each perso get top 10 questions\n",
    "\n",
    "top_10_q = []\n",
    "\n",
    "for perso in range(answer_loss_df.shape[1]):\n",
    "    top_10_q.append(list(answer_loss_df.iloc[:,perso].sort_values(ascending=False)[:10].index))"
   ]
  },
  {
   "cell_type": "code",
   "execution_count": 100,
   "metadata": {},
   "outputs": [],
   "source": [
    "top_10_dict = {}\n",
    "\n",
    "for p in range(answer_loss_df.shape[1]):\n",
    "    top_10_dict[p] = [question_dict[i] for i in top_10_q[p]]"
   ]
  },
  {
   "cell_type": "code",
   "execution_count": 101,
   "metadata": {},
   "outputs": [
    {
     "data": {
      "text/plain": [
       "{0: ['I talk to a lot of different people at parties.',\n",
       "  'I am the life of the party.',\n",
       "  \"I don't mind being the center of attention.\",\n",
       "  'I am quiet around strangers.',\n",
       "  'I start conversations.',\n",
       "  'I keep in the background.',\n",
       "  \"I don't talk a lot.\",\n",
       "  \"I don't like to draw attention to myself.\",\n",
       "  'I have frequent mood swings.',\n",
       "  'I change my mood a lot.'],\n",
       " 1: ['I have little to say.',\n",
       "  \"I don't talk a lot.\",\n",
       "  'I keep in the background.',\n",
       "  'I start conversations.',\n",
       "  'I talk to a lot of different people at parties.',\n",
       "  'I am quiet around strangers.',\n",
       "  \"I don't mind being the center of attention.\",\n",
       "  \"I don't like to draw attention to myself.\",\n",
       "  'I feel comfortable around people.',\n",
       "  'I am the life of the party.'],\n",
       " 2: ['I talk to a lot of different people at parties.',\n",
       "  'I feel little concern for others.',\n",
       "  'I get irritated easily.',\n",
       "  'I have frequent mood swings.',\n",
       "  'I start conversations.',\n",
       "  'I get stressed out easily.',\n",
       "  'I change my mood a lot.',\n",
       "  'I feel comfortable around people.',\n",
       "  'I get upset easily.',\n",
       "  'I am quiet around strangers.'],\n",
       " 3: ['I often forget to put things back in their proper place.',\n",
       "  'I leave my belongings around.',\n",
       "  'I follow a schedule.',\n",
       "  'I get chores done right away.',\n",
       "  'I use difficult words.',\n",
       "  'I feel little concern for others.',\n",
       "  'I make a mess of things.',\n",
       "  'I talk to a lot of different people at parties.',\n",
       "  'I often feel blue.',\n",
       "  \"I don't mind being the center of attention.\"]}"
      ]
     },
     "execution_count": 101,
     "metadata": {},
     "output_type": "execute_result"
    }
   ],
   "source": [
    "top_10_dict"
   ]
  },
  {
   "cell_type": "code",
   "execution_count": null,
   "metadata": {},
   "outputs": [],
   "source": []
  }
 ],
 "metadata": {
  "kernelspec": {
   "display_name": "Python 3",
   "language": "python",
   "name": "python3"
  },
  "language_info": {
   "codemirror_mode": {
    "name": "ipython",
    "version": 3
   },
   "file_extension": ".py",
   "mimetype": "text/x-python",
   "name": "python",
   "nbconvert_exporter": "python",
   "pygments_lexer": "ipython3",
   "version": "3.7.5"
  }
 },
 "nbformat": 4,
 "nbformat_minor": 4
}
